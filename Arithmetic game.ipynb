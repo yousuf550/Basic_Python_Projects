{
 "cells": [
  {
   "cell_type": "markdown",
   "metadata": {},
   "source": [
    "# Arithmetic game"
   ]
  },
  {
   "cell_type": "markdown",
   "metadata": {},
   "source": [
    "We create a Game class, which generates a number of arithmetic questions randomly. The player answers them, and the program records the number of correct answers and the time spent on the game."
   ]
  },
  {
   "cell_type": "code",
   "execution_count": 2,
   "metadata": {},
   "outputs": [
    {
     "name": "stdout",
     "output_type": "stream",
     "text": [
      "Question1:\n",
      "17 // 15\n",
      "What is your answer?: 0.3\n",
      "You are wrong. The correct answer is 1\n",
      "Question2:\n",
      "6 // 10\n",
      "What is your answer?: 0.1\n",
      "You are wrong. The correct answer is 0\n",
      "Question3:\n",
      "16 + 3\n",
      "What is your answer?: 19\n",
      "You are correct\n",
      "Question4:\n",
      "4 + 18\n",
      "What is your answer?: 22\n",
      "You are correct\n",
      "Question5:\n",
      "7 - 12\n",
      "What is your answer?: -5\n",
      "You are correct\n",
      "Question6:\n",
      "28 + 3\n",
      "What is your answer?: 31\n",
      "You are correct\n",
      "Question7:\n",
      "14 + 30\n",
      "What is your answer?: 44\n",
      "You are correct\n",
      "Question8:\n",
      "9 // 18\n",
      "What is your answer?: 0.5\n",
      "You are wrong. The correct answer is 0\n",
      "Question9:\n",
      "12 * 10\n",
      "What is your answer?: 120\n",
      "You are correct\n",
      "Question10:\n",
      "10 * 2\n",
      "What is your answer?: 20\n",
      "You are correct\n",
      "You got7answer correct.\n",
      "You use 44.620 seconds. \n"
     ]
    }
   ],
   "source": [
    "import random\n",
    "import time\n",
    "\n",
    "class ArithmeticGame:\n",
    "    def __init__(self, num_questions):\n",
    "        self.num_questions = num_questions\n",
    "        \n",
    "    def generate_questions(self):\n",
    "        operand_1 = random.randint(1, 30)\n",
    "        operand_2 = random.randint(1, 30)\n",
    "        operator = random.choice([\"+\", \"-\", \"*\", \"//\"])\n",
    "        if operator == \"+\":\n",
    "            answer = operand_1 + operand_2\n",
    "        if operator == \"-\":\n",
    "            answer = operand_1 - operand_2\n",
    "        if operator == \"*\":\n",
    "            answer = operand_1 * operand_2\n",
    "        if operator == \"//\":\n",
    "            answer = operand_1 // operand_2\n",
    "        question = str(operand_1) + \" \" + operator + \" \" + str(operand_2)\n",
    "        return question, answer\n",
    "    \n",
    "    def play_game(self):\n",
    "        num_correct = 0\n",
    "        start_time = time.time()     #time.time refers to current time\n",
    "        for i in range(self.num_questions):\n",
    "            print(\"Question \" + str(i+1) + \":\")\n",
    "            question, answer = self.generate_questions()\n",
    "            print(question)\n",
    "            user_answer = float((input('What is your answer?: ')))\n",
    "            if user_answer == answer:\n",
    "                num_correct = num_correct + 1\n",
    "                print(\"You are correct\")\n",
    "            else:\n",
    "                print(\"You are wrong. The correct answer is \" + str(answer))\n",
    "        end_time = time.time()\n",
    "        print(\"You got \" + str(num_correct) + \"answer correct.\")\n",
    "        print(\"You use {0:.3f} seconds. \".format(end_time - start_time))    #3f is place holder which control the decimals \n",
    "\n",
    "\n",
    "new_game = ArithmeticGame(10)     #10 refers to no of question generated \n",
    "new_game.play_game()"
   ]
  },
  {
   "cell_type": "code",
   "execution_count": null,
   "metadata": {},
   "outputs": [],
   "source": []
  }
 ],
 "metadata": {
  "kernelspec": {
   "display_name": "Python 3",
   "language": "python",
   "name": "python3"
  },
  "language_info": {
   "codemirror_mode": {
    "name": "ipython",
    "version": 3
   },
   "file_extension": ".py",
   "mimetype": "text/x-python",
   "name": "python",
   "nbconvert_exporter": "python",
   "pygments_lexer": "ipython3",
   "version": "3.7.4"
  }
 },
 "nbformat": 4,
 "nbformat_minor": 2
}
