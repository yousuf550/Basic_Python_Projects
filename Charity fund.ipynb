{
 "cells": [
  {
   "cell_type": "markdown",
   "metadata": {},
   "source": [
    "# Charity fund"
   ]
  },
  {
   "cell_type": "markdown",
   "metadata": {},
   "source": [
    "We create a class for a charity fund. Then we create methods of the fund class, such as saving and spending the fund. The charity fund object can also return the balance when requested. "
   ]
  },
  {
   "cell_type": "code",
   "execution_count": 2,
   "metadata": {},
   "outputs": [
    {
     "name": "stdout",
     "output_type": "stream",
     "text": [
      "800000\n",
      "760000.0\n",
      "860000.0\n",
      "You got a deficit of 40000.0\n",
      "-40000.0\n",
      "Danger. You have -40000.0 left\n",
      "True\n"
     ]
    }
   ],
   "source": [
    "class CharityFund:\n",
    "    def __init__(self, balance=1000000):\n",
    "        self.balance = balance\n",
    "        \n",
    "    def save_fund(self, amount):\n",
    "        self.balance += amount\n",
    "    \n",
    "    def spend_fund(self, amount):\n",
    "        self.balance -= amount\n",
    "    \n",
    "    def invest(self, return_rate):\n",
    "        self.balance *= 1 + return_rate\n",
    "        \n",
    "    def get_balance(self):\n",
    "        if self.balance < 0:\n",
    "            print(\"You got a deficit of \" + str(-self.balance))\n",
    "        return self.balance\n",
    "    \n",
    "    def is_danger(self):\n",
    "        if self.balance < 50000:\n",
    "            print(\"Danger. You have \" + str(self.balance) + \" left\")\n",
    "        return self.balance < 50000\n",
    "    \n",
    "help_elderly = CharityFund()\n",
    "help_elderly.spend_fund(200000)\n",
    "print(help_elderly.get_balance())\n",
    "\n",
    "help_elderly.invest(-0.05)\n",
    "print(help_elderly.get_balance())\n",
    "\n",
    "help_elderly.save_fund(100000)\n",
    "print(help_elderly.get_balance())\n",
    "\n",
    "help_elderly.spend_fund(900000)\n",
    "print(help_elderly.get_balance())\n",
    "\n",
    "print(help_elderly.is_danger())\n"
   ]
  },
  {
   "cell_type": "code",
   "execution_count": null,
   "metadata": {},
   "outputs": [],
   "source": []
  }
 ],
 "metadata": {
  "kernelspec": {
   "display_name": "Python 3",
   "language": "python",
   "name": "python3"
  },
  "language_info": {
   "codemirror_mode": {
    "name": "ipython",
    "version": 3
   },
   "file_extension": ".py",
   "mimetype": "text/x-python",
   "name": "python",
   "nbconvert_exporter": "python",
   "pygments_lexer": "ipython3",
   "version": "3.7.4"
  }
 },
 "nbformat": 4,
 "nbformat_minor": 2
}
