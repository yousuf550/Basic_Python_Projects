{
 "cells": [
  {
   "cell_type": "markdown",
   "metadata": {},
   "source": [
    "# Interviewee Screening"
   ]
  },
  {
   "cell_type": "markdown",
   "metadata": {},
   "source": [
    "We put the applicant information and experience in a dictionary. Then we check each dictionary entry against the job requirements. The applicants who pass the screening are printed. "
   ]
  },
  {
   "cell_type": "code",
   "execution_count": 1,
   "metadata": {},
   "outputs": [
    {
     "name": "stdout",
     "output_type": "stream",
     "text": [
      "Calvinpass the screening\n",
      "Dorothypass the screening\n",
      "Estherpass the screening\n"
     ]
    }
   ],
   "source": [
    "applicant_dict = {\"Anna\": {\"experience\": 2,\n",
    "                           \"languages\": [\"Python\", \"Ruby\", \"Rust\", \"Java\"],\n",
    "                           \"proj_supervision\": False},\n",
    "                  \"Ben\": {\"experience\": 5,\n",
    "                           \"languages\": [\"Java\", \"Haskel\", \"C++\", \"Perl\"],\n",
    "                           \"proj_supervision\": False},\n",
    "                  \"Calvin\": {\"experience\": 4,\n",
    "                           \"languages\": [\"C\", \"Python\", \"Java\", \"Scala\"],\n",
    "                           \"proj_supervision\": True},\n",
    "                  \"Dorothy\": {\"experience\": 6,\n",
    "                           \"languages\": [\"Java\", \"Python\", \"Elm\", \"Clojure\"],\n",
    "                           \"proj_supervision\": False},\n",
    "                  \"Esther\": {\"experience\": 4,\n",
    "                           \"languages\": [\"Java\", \"Go\", \"Ruby\", \"C#\"],\n",
    "                           \"proj_supervision\": True},\n",
    "                }\n",
    "\n",
    "min_experience = 4\n",
    "required_languages = [\"Java\", \"Python\"]\n",
    "for name, cv_dict in applicant_dict.items():\n",
    "    if cv_dict[\"experience\"] >= min_experience and \\\n",
    "        (set(required_languages).issubset(set(cv_dict[\"languages\"])) or \n",
    "         cv_dict[\"proj_supervision\"]):\n",
    "            print(name + \"pass the screening\")\n",
    "    \n",
    "        "
   ]
  },
  {
   "cell_type": "code",
   "execution_count": 2,
   "metadata": {},
   "outputs": [
    {
     "data": {
      "text/plain": [
       "{'Java', 'Python'}"
      ]
     },
     "execution_count": 2,
     "metadata": {},
     "output_type": "execute_result"
    }
   ],
   "source": [
    "set(required_languages)"
   ]
  },
  {
   "cell_type": "code",
   "execution_count": 3,
   "metadata": {},
   "outputs": [
    {
     "data": {
      "text/plain": [
       "{'C#', 'Go', 'Java', 'Ruby'}"
      ]
     },
     "execution_count": 3,
     "metadata": {},
     "output_type": "execute_result"
    }
   ],
   "source": [
    "set(cv_dict[\"languages\"])"
   ]
  },
  {
   "cell_type": "code",
   "execution_count": 4,
   "metadata": {},
   "outputs": [
    {
     "name": "stdout",
     "output_type": "stream",
     "text": [
      "True\n",
      "False\n",
      "False\n",
      "True\n",
      "True\n"
     ]
    }
   ],
   "source": [
    "#The issubset() method returns True if all elements of a set are present in another set\n",
    "# (passed as an argument). If not, it returns False.\n",
    "A = {1, 2, 3}\n",
    "B = {1, 2, 3, 4, 5}\n",
    "C = {1, 2, 4, 5}\n",
    "\n",
    "# Returns True\n",
    "print(A.issubset(B))\n",
    "\n",
    "# Returns False\n",
    "# B is not subset of A\n",
    "print(B.issubset(A))\n",
    "\n",
    "# Returns False\n",
    "print(A.issubset(C))\n",
    "\n",
    "# Returns True\n",
    "print(C.issubset(B))\n",
    "\n",
    "# Returns True\n",
    "print(C.issubset(B))"
   ]
  },
  {
   "cell_type": "code",
   "execution_count": null,
   "metadata": {},
   "outputs": [],
   "source": []
  }
 ],
 "metadata": {
  "kernelspec": {
   "display_name": "Python 3",
   "language": "python",
   "name": "python3"
  },
  "language_info": {
   "codemirror_mode": {
    "name": "ipython",
    "version": 3
   },
   "file_extension": ".py",
   "mimetype": "text/x-python",
   "name": "python",
   "nbconvert_exporter": "python",
   "pygments_lexer": "ipython3",
   "version": "3.7.4"
  }
 },
 "nbformat": 4,
 "nbformat_minor": 2
}
