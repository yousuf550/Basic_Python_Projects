{
 "cells": [
  {
   "cell_type": "markdown",
   "metadata": {},
   "source": [
    "# Password generator"
   ]
  },
  {
   "cell_type": "markdown",
   "metadata": {},
   "source": [
    "The program asks for the password length, and the minimum number of alphanumeric characters and symbols. If the sum of the characters is not consistent, a new input is requested. Then the program generates a password accordingly. "
   ]
  },
  {
   "cell_type": "code",
   "execution_count": 1,
   "metadata": {},
   "outputs": [],
   "source": [
    "#1st Method\n",
    "import random"
   ]
  },
  {
   "cell_type": "code",
   "execution_count": 42,
   "metadata": {},
   "outputs": [
    {
     "name": "stdout",
     "output_type": "stream",
     "text": [
      "Number of characters in your password: 10\n",
      "At least how many uppercase letters: 2\n",
      "At least how many lowercase letters: 3\n",
      "At least how many digits: 3\n",
      "At least how many symbols: 2\n",
      "Your computer generated pasword: lwQ6D6?~3w\n"
     ]
    }
   ],
   "source": [
    "def get_char(char_list, numbers):\n",
    "    temp_list = []\n",
    "    for i in range(numbers):\n",
    "        temp_list.append(random.choice(char_list))\n",
    "    return temp_list\n",
    "\n",
    "\n",
    "while True:\n",
    "    num_char = int(input(\"Number of characters in your password: \"))\n",
    "    num_upper = int(input(\"At least how many uppercase letters: \"))\n",
    "    num_lower = int(input(\"At least how many lowercase letters: \"))\n",
    "    num_digits = int(input(\"At least how many digits: \"))\n",
    "    num_symbols = int(input(\"At least how many symbols: \"))\n",
    "    if num_char < num_lower + num_upper + num_symbols + num_digits:\n",
    "        print(\"The character numbers do not match.\")\n",
    "    else:\n",
    "        break\n",
    "\n",
    "upper_list = [chr(i) for i in range(65, 65+26)]\n",
    "upper_char = get_char(upper_list, num_upper)\n",
    "\n",
    "lower_list = [chr(i) for i in range(97, 97+26)]\n",
    "lower_char = get_char(lower_list, num_lower)\n",
    "\n",
    "digit_list = [str(i) for i in range(0, 10)]\n",
    "digit_char = get_char(digit_list, num_digits)\n",
    "\n",
    "symbol_list = [chr(i) for i in range(32, 48)]\n",
    "symbol_list += [chr(i) for i in range(58, 65)]\n",
    "symbol_list += [chr(i) for i in range(91, 97)]\n",
    "symbol_list += [chr(i) for i in range(123, 127)]\n",
    "symbol_char = get_char(symbol_list, num_symbols)\n",
    "\n",
    "num_unfilled_chars = num_char - num_upper - num_lower - num_digits - num_symbols\n",
    "\n",
    "whole_list = upper_list + lower_list + digit_list + symbol_list\n",
    "remaining_char = get_char(whole_list, num_unfilled_chars)\n",
    "\n",
    "password = upper_char + lower_char + digit_char + symbol_char + remaining_char\n",
    "random.shuffle(password)\n",
    "password = \"\".join(password)\n",
    "print(\"Your computer generated pasword: \" + password)\n"
   ]
  },
  {
   "cell_type": "code",
   "execution_count": 35,
   "metadata": {},
   "outputs": [
    {
     "data": {
      "text/plain": [
       "'I}5f9cF8!%'"
      ]
     },
     "execution_count": 35,
     "metadata": {},
     "output_type": "execute_result"
    }
   ],
   "source": [
    "password"
   ]
  },
  {
   "cell_type": "code",
   "execution_count": null,
   "metadata": {},
   "outputs": [],
   "source": []
  },
  {
   "cell_type": "code",
   "execution_count": 32,
   "metadata": {},
   "outputs": [
    {
     "data": {
      "text/plain": [
       "['B', 'm', 'F', 'y', 'U', 'v', 'O', 'm', 'P', 'r']"
      ]
     },
     "execution_count": 32,
     "metadata": {},
     "output_type": "execute_result"
    }
   ],
   "source": [
    "#Other\n",
    "list2 = []\n",
    "for i in range(5):\n",
    "    list2.append(random.choice(upper_list))\n",
    "    list2.append(random.choice(lower_list))\n",
    "\n",
    "list2"
   ]
  },
  {
   "cell_type": "code",
   "execution_count": 33,
   "metadata": {},
   "outputs": [
    {
     "data": {
      "text/plain": [
       "['F', 'B', 'O', 'r', 'm', 'U', 'm', 'P', 'v', 'y']"
      ]
     },
     "execution_count": 33,
     "metadata": {},
     "output_type": "execute_result"
    }
   ],
   "source": [
    "random.shuffle(list2)\n",
    "list2"
   ]
  },
  {
   "cell_type": "code",
   "execution_count": 34,
   "metadata": {},
   "outputs": [
    {
     "data": {
      "text/plain": [
       "'FBOrmUmPvy'"
      ]
     },
     "execution_count": 34,
     "metadata": {},
     "output_type": "execute_result"
    }
   ],
   "source": [
    "list2 = \"\".join(list2)\n",
    "list2"
   ]
  },
  {
   "cell_type": "code",
   "execution_count": null,
   "metadata": {},
   "outputs": [],
   "source": []
  },
  {
   "cell_type": "code",
   "execution_count": 38,
   "metadata": {},
   "outputs": [
    {
     "name": "stdout",
     "output_type": "stream",
     "text": [
      "Enter no of password: 10\n",
      "Enter length of password: 6\n",
      ":JQcL?\n",
      "*Q$T:S\n",
      "I{+;B\\\n",
      "dt-_%|\n",
      "4;fl/9\n",
      "_w~ZxA\n",
      "3*Rk@0\n",
      "GK%aYJ\n",
      "]`xdOS\n",
      "3wqoS?\n"
     ]
    }
   ],
   "source": [
    "#Second Method\n",
    "import random\n",
    "import string\n",
    "\n",
    "characters = string.ascii_letters + string.punctuation  + string.digits\n",
    "num = int(input(\"Enter no of password: \"))\n",
    "length = int(input(\"Enter length of password: \"))\n",
    "\n",
    "for x in range(num):\n",
    "    password = ''\n",
    "    for i in range(length):\n",
    "        password += random.choice(characters)\n",
    "    print(password)"
   ]
  },
  {
   "cell_type": "code",
   "execution_count": 39,
   "metadata": {},
   "outputs": [
    {
     "name": "stdout",
     "output_type": "stream",
     "text": [
      "abcdefghijklmnopqrstuvwxyzABCDEFGHIJKLMNOPQRSTUVWXYZ!\"#$%&'()*+,-./:;<=>?@[\\]^_`{|}~0123456789\n"
     ]
    }
   ],
   "source": [
    "print(characters)"
   ]
  },
  {
   "cell_type": "code",
   "execution_count": 40,
   "metadata": {},
   "outputs": [
    {
     "data": {
      "text/plain": [
       "'!\"#$%&\\'()*+,-./:;<=>?@[\\\\]^_`{|}~'"
      ]
     },
     "execution_count": 40,
     "metadata": {},
     "output_type": "execute_result"
    }
   ],
   "source": [
    "string.punctuation"
   ]
  },
  {
   "cell_type": "code",
   "execution_count": 41,
   "metadata": {},
   "outputs": [
    {
     "data": {
      "text/plain": [
       "'abcdefghijklmnopqrstuvwxyzABCDEFGHIJKLMNOPQRSTUVWXYZ'"
      ]
     },
     "execution_count": 41,
     "metadata": {},
     "output_type": "execute_result"
    }
   ],
   "source": [
    "string.ascii_letters"
   ]
  },
  {
   "cell_type": "code",
   "execution_count": null,
   "metadata": {},
   "outputs": [],
   "source": [
    "S"
   ]
  }
 ],
 "metadata": {
  "kernelspec": {
   "display_name": "Python 3",
   "language": "python",
   "name": "python3"
  },
  "language_info": {
   "codemirror_mode": {
    "name": "ipython",
    "version": 3
   },
   "file_extension": ".py",
   "mimetype": "text/x-python",
   "name": "python",
   "nbconvert_exporter": "python",
   "pygments_lexer": "ipython3",
   "version": "3.7.4"
  }
 },
 "nbformat": 4,
 "nbformat_minor": 2
}
