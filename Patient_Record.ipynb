{
 "cells": [
  {
   "cell_type": "markdown",
   "metadata": {},
   "source": [
    "# Patient Record"
   ]
  },
  {
   "cell_type": "markdown",
   "metadata": {},
   "source": [
    "We compare the queue of patients with the patient record stored in a dictionary. We do so by creating a function that accepts variable-length arguments. If a patient from the queue is in the record, the patient information is printed from the dictionary."
   ]
  },
  {
   "cell_type": "code",
   "execution_count": 28,
   "metadata": {},
   "outputs": [],
   "source": [
    "def print_queue(*a_list, **a_dict):\n",
    "    for person in a_list:\n",
    "        for patient, info in a_dict.items():\n",
    "            if person == patient:\n",
    "                print(person + \":\")\n",
    "                for key, value in info.items():\n",
    "                    print(key + \" = \" + str(value))\n",
    "                print()\n",
    "                \n",
    "        "
   ]
  },
  {
   "cell_type": "code",
   "execution_count": 27,
   "metadata": {},
   "outputs": [
    {
     "name": "stdout",
     "output_type": "stream",
     "text": [
      "These waiting people are on the record.\n",
      "Tiffany:\n",
      "age = 15\n",
      "weight = 50\n",
      "\n",
      "Raymond:\n",
      "age = 23\n",
      "weight = 65\n",
      "\n",
      "Michelle:\n",
      "age = 21\n",
      "weight = 53\n",
      "\n"
     ]
    }
   ],
   "source": [
    "queue_list = [\"Nelson\", \"Tiffany\", \"Raymond\", \"Michelle\", \"Polly\"]   #Queue of patient in clinic\n",
    "patient_record = {                                                   #Patients are already in record\n",
    "    \"Tiffany\": {\"age\": 15, \"weight\": 50},\n",
    "    \"Raymond\": {\"age\": 23, \"weight\": 65},\n",
    "    \"Sabrina\": {\"age\": 20, \"weight\": 57},\n",
    "    \"Michelle\": {\"age\": 21, \"weight\": 53}\n",
    "}\n",
    "\n",
    "print(\"These waiting people are on the record.\")\n",
    "\n",
    "print_queue(*queue_list, **patient_dict)"
   ]
  },
  {
   "cell_type": "code",
   "execution_count": null,
   "metadata": {},
   "outputs": [],
   "source": []
  }
 ],
 "metadata": {
  "kernelspec": {
   "display_name": "Python 3",
   "language": "python",
   "name": "python3"
  },
  "language_info": {
   "codemirror_mode": {
    "name": "ipython",
    "version": 3
   },
   "file_extension": ".py",
   "mimetype": "text/x-python",
   "name": "python",
   "nbconvert_exporter": "python",
   "pygments_lexer": "ipython3",
   "version": "3.7.4"
  }
 },
 "nbformat": 4,
 "nbformat_minor": 2
}
